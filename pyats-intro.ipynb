{
 "cells": [
  {
   "cell_type": "markdown",
   "metadata": {},
   "source": [
    "# pyats-intro\n",
    "\n",
    "A simple introduction to pyATS and Genie \n",
    "\n",
    "For more information visit: "
   ]
  },
  {
   "cell_type": "markdown",
   "metadata": {},
   "source": [
    "## Import modules"
   ]
  },
  {
   "cell_type": "code",
   "execution_count": 1,
   "metadata": {},
   "outputs": [],
   "source": [
    "import sys\n",
    "from IPython import embed\n",
    "import logging\n",
    "import unicon\n",
    "\n",
    "from genie.conf import Genie\n",
    "from ats.topology import loader\n",
    "from genie.abstract import Lookup\n",
    "from genie.libs import ops # noqa"
   ]
  },
  {
   "cell_type": "markdown",
   "metadata": {},
   "source": [
    "# Testbed\n",
    "\n",
    "https://pubhub.devnetcloud.com/media/pyats-packages/docs/genie/design/story.html\n",
    "View our testbed [here](./default_testbed.yaml)\n",
    "\n",
    "pyATS and Genie testbed are different objects types. It's usually easiest to just initialize both.  "
   ]
  },
  {
   "cell_type": "code",
   "execution_count": 2,
   "metadata": {},
   "outputs": [],
   "source": [
    "pyats_testbed = loader.load('./default_testbed.yaml')\n",
    "genie_testbed = Genie.init(pyats_testbed)"
   ]
  },
  {
   "cell_type": "markdown",
   "metadata": {},
   "source": [
    "## Pythonic!!\n",
    "\n",
    "The testbed YAML get's loaded up into a Testbed object which has an awesome API"
   ]
  },
  {
   "cell_type": "code",
   "execution_count": 3,
   "metadata": {},
   "outputs": [
    {
     "data": {
      "text/plain": [
       "TopologyDict({'csr1000v': <Device csr1000v at 0x111392320>, 'nxos': <Device nxos at 0x111489f98>})"
      ]
     },
     "execution_count": 3,
     "metadata": {},
     "output_type": "execute_result"
    }
   ],
   "source": [
    "genie_testbed.devices"
   ]
  },
  {
   "cell_type": "code",
   "execution_count": 4,
   "metadata": {},
   "outputs": [
    {
     "data": {
      "text/plain": [
       "<Device csr1000v at 0x111392320>"
      ]
     },
     "execution_count": 4,
     "metadata": {},
     "output_type": "execute_result"
    }
   ],
   "source": [
    "genie_testbed.devices.csr1000v"
   ]
  },
  {
   "cell_type": "markdown",
   "metadata": {},
   "source": [
    "## Device Objects\n",
    "\n",
    "More information: https://pubhub.devnetcloud.com/media/pyats-packages/docs/genie/Conf/user/topology.html#device\n"
   ]
  },
  {
   "cell_type": "code",
   "execution_count": 10,
   "metadata": {},
   "outputs": [],
   "source": [
    "csr1000v = genie_testbed.devices.csr1000v"
   ]
  },
  {
   "cell_type": "code",
   "execution_count": 11,
   "metadata": {
    "scrolled": true
   },
   "outputs": [
    {
     "name": "stdout",
     "output_type": "stream",
     "text": [
      "\n",
      "2018-08-21T14:58:06: %UNICON-INFO: +++ initializing context +++\n",
      "\n",
      "2018-08-21T14:58:06: %UNICON-INFO: +++ initializing state_machine +++\n",
      "\n",
      "2018-08-21T14:58:06: %UNICON-INFO: +++ initializing services +++\n",
      "\n",
      "2018-08-21T14:58:06: %UNICON-INFO: adding service  send   :  <unicon.plugins.generic.service_implementation.Send object at 0x11175ceb8>\n",
      "\n",
      "2018-08-21T14:58:06: %UNICON-INFO: adding service  sendline   :  <unicon.plugins.generic.service_implementation.Sendline object at 0x11175cd30>\n",
      "\n",
      "2018-08-21T14:58:06: %UNICON-INFO: adding service  expect   :  <unicon.plugins.generic.service_implementation.Expect object at 0x11175ce10>\n",
      "\n",
      "2018-08-21T14:58:06: %UNICON-INFO: adding service  execute   :  <unicon.plugins.iosxe.service_implementation.Execute object at 0x11175ccf8>\n",
      "\n",
      "2018-08-21T14:58:06: %UNICON-INFO: adding service  config   :  <unicon.plugins.iosxe.service_implementation.Config object at 0x11175cc50>\n",
      "\n",
      "2018-08-21T14:58:06: %UNICON-INFO: adding service  configure   :  <unicon.plugins.iosxe.service_implementation.Configure object at 0x11175cf28>\n",
      "\n",
      "2018-08-21T14:58:06: %UNICON-INFO: adding service  enable   :  <unicon.plugins.generic.service_implementation.Enable object at 0x11175cf60>\n",
      "\n",
      "2018-08-21T14:58:06: %UNICON-INFO: adding service  disable   :  <unicon.plugins.generic.service_implementation.Disable object at 0x11175cef0>\n",
      "\n",
      "2018-08-21T14:58:06: %UNICON-INFO: adding service  reload   :  <unicon.plugins.generic.service_implementation.Reload object at 0x11175ce48>\n",
      "\n",
      "2018-08-21T14:58:06: %UNICON-INFO: adding service  ping   :  <unicon.plugins.iosxe.service_implementation.Ping object at 0x11175cf98>\n",
      "\n",
      "2018-08-21T14:58:06: %UNICON-INFO: adding service  copy   :  <unicon.plugins.generic.service_implementation.Copy object at 0x1117e31d0>\n",
      "\n",
      "2018-08-21T14:58:06: %UNICON-INFO: adding service  expect_log   :  <unicon.plugins.generic.service_implementation.ExpectLogging object at 0x1117e3278>\n",
      "\n",
      "2018-08-21T14:58:06: %UNICON-INFO: adding service  log_user   :  <unicon.plugins.generic.service_implementation.LogUser object at 0x1117e3208>\n",
      "\n",
      "2018-08-21T14:58:06: %UNICON-INFO: +++ connection to spawn_command: ssh -l root 64.103.37.51 -p 8181, id: 4588451376 +++\n",
      "\n",
      "2018-08-21T14:58:07: %UNICON-INFO: connection to csr1000v\n",
      "\n",
      "2018-08-21T14:58:07: %UNICON-INFO: ssh -l root 64.103.37.51 -p 8181\n",
      "\n",
      "2018-08-21T14:58:09: %UNICON-ERROR: \u001b[91mTimeout occurred : Timeout value : 2\n",
      " Target: csr1000v\n",
      " Command sent: ssh -l root 64.103.37.51 -p 8181\n",
      " Pattern: '.+$'\n",
      " Got: ''\u001b[0m\n",
      "\n",
      "\n",
      "Password: \n",
      "\n",
      "Welcome to the DevNet Always On Sandbox for IOS XE\n",
      "\n",
      "This is a shared sandbox available for anyone to use to\n",
      "test APIs, explore features, and test scripts.  Please\n",
      "keep this in mind as you use it, and respect others use.\n",
      "\n",
      "The following programmability features are already enabled:\n",
      "  - NETCONF\n",
      "  - RESTCONF\n",
      "\n",
      "Thanks for stopping by.\n",
      "\n",
      "\n",
      "\n",
      "csr1000v#\n",
      "2018-08-21T14:58:14: %UNICON-INFO: +++ initializing handle +++\n",
      "\n",
      "2018-08-21T14:58:14: %UNICON-INFO: +++ execute  +++\n",
      "term length 0\n",
      "csr1000v#\n",
      "2018-08-21T14:58:16: %UNICON-INFO: +++ execute  +++\n",
      "term width 0\n",
      "csr1000v#\n",
      "2018-08-21T14:58:16: %UNICON-INFO: +++ execute  +++\n",
      "show version\n",
      "Cisco IOS XE Software, Version 16.08.01\n",
      "Cisco IOS Software [Fuji], Virtual XE Software (X86_64_LINUX_IOSD-UNIVERSALK9-M), Version 16.8.1, RELEASE SOFTWARE (fc3)\n",
      "Technical Support: http://www.cisco.com/techsupport\n",
      "Copyright (c) 1986-2018 by Cisco Systems, Inc.\n",
      "Compiled Tue 27-Mar-18 13:32 by mcpre\n",
      "\n",
      "\n",
      "Cisco IOS-XE software, Copyright (c) 2005-2018 by cisco Systems, Inc.\n",
      "All rights reserved.  Certain components of Cisco IOS-XE software are\n",
      "licensed under the GNU General Public License (\"GPL\") Version 2.0.  The\n",
      "software code licensed under GPL Version 2.0 is free software that comes\n",
      "with ABSOLUTELY NO WARRANTY.  You can redistribute and/or modify such\n",
      "GPL code under the terms of GPL Version 2.0.  For more details, see the\n",
      "documentation or \"License Notice\" file accompanying the IOS-XE software,\n",
      "or the applicable URL provided on the flyer accompanying the IOS-XE\n",
      "software.\n",
      "\n",
      "\n",
      "ROM: IOS-XE ROMMON\n",
      "\n",
      "csr1000v uptime is 6 weeks, 5 days, 17 hours, 15 minutes\n",
      "Uptime for this control processor is 6 weeks, 5 days, 17 hours, 17 minutes\n",
      "System returned to ROM by reload\n",
      "System image file is \"bootflash:packages.conf\"\n",
      "Last reload reason: Reload Command\n",
      "\n",
      "\n",
      "\n",
      "This product contains cryptographic features and is subject to United\n",
      "States and local country laws governing import, export, transfer and\n",
      "use. Delivery of Cisco cryptographic products does not imply\n",
      "third-party authority to import, export, distribute or use encryption.\n",
      "Importers, exporters, distributors and users are responsible for\n",
      "compliance with U.S. and local country laws. By using this product you\n",
      "agree to comply with applicable laws and regulations. If you are unable\n",
      "to comply with U.S. and local laws, return this product immediately.\n",
      "\n",
      "A summary of U.S. laws governing Cisco cryptographic products may be found at:\n",
      "http://www.cisco.com/wwl/export/crypto/tool/stqrg.html\n",
      "\n",
      "If you require further assistance please contact us by sending email to\n",
      "export@cisco.com.\n",
      "\n",
      "License Level: ax\n",
      "License Type: Default. No valid license found.\n",
      "Next reload license Level: ax\n",
      "\n",
      "cisco CSR1000V (VXE) processor (revision VXE) with 2186344K/3075K bytes of memory.\n",
      "Processor board ID 9JGOSIUGQVN\n",
      "3 Gigabit Ethernet interfaces\n",
      "32768K bytes of non-volatile configuration memory.\n",
      "3984604K bytes of physical memory.\n",
      "7774207K bytes of virtual hard disk at bootflash:.\n",
      "0K bytes of WebUI ODM Files at webui:.\n",
      "\n",
      "Configuration register is 0x2102\n",
      "\n",
      "csr1000v#\n",
      "2018-08-21T14:58:17: %UNICON-INFO: +++ config  +++\n",
      "config term\n",
      "Enter configuration commands, one per line.  End with CNTL/Z.\n",
      "csr1000v(config)#no logging console\n",
      "csr1000v(config)#line console 0\n",
      "csr1000v(config-line)#exec-timeout 0\n",
      "csr1000v(config-line)#end\n",
      "csr1000v#"
     ]
    },
    {
     "data": {
      "text/plain": [
       "'\\r\\n\\r\\nPassword: \\r\\n\\r\\nWelcome to the DevNet Always On Sandbox for IOS XE\\r\\n\\r\\nThis is a shared sandbox available for anyone to use to\\r\\ntest APIs, explore features, and test scripts.  Please\\r\\nkeep this in mind as you use it, and respect others use.\\r\\n\\r\\nThe following programmability features are already enabled:\\r\\n  - NETCONF\\r\\n  - RESTCONF\\r\\n\\r\\nThanks for stopping by.\\r\\n\\r\\n\\r\\n\\r\\ncsr1000v#'"
      ]
     },
     "execution_count": 11,
     "metadata": {},
     "output_type": "execute_result"
    }
   ],
   "source": [
    "csr1000v.connect()"
   ]
  },
  {
   "cell_type": "code",
   "execution_count": 12,
   "metadata": {},
   "outputs": [
    {
     "data": {
      "text/plain": [
       "[<EthernetInterface object 'GigabitEthernet1' on 'csr1000v' at 0x11171df98>]"
      ]
     },
     "execution_count": 12,
     "metadata": {},
     "output_type": "execute_result"
    }
   ],
   "source": [
    "csr1000v.find_interfaces()"
   ]
  },
  {
   "cell_type": "code",
   "execution_count": 16,
   "metadata": {},
   "outputs": [
    {
     "name": "stdout",
     "output_type": "stream",
     "text": [
      "\n",
      "2018-08-21T15:00:52: %UNICON-INFO: +++ execute  +++\n",
      "show version\n",
      "Cisco IOS XE Software, Version 16.08.01\n",
      "Cisco IOS Software [Fuji], Virtual XE Software (X86_64_LINUX_IOSD-UNIVERSALK9-M), Version 16.8.1, RELEASE SOFTWARE (fc3)\n",
      "Technical Support: http://www.cisco.com/techsupport\n",
      "Copyright (c) 1986-2018 by Cisco Systems, Inc.\n",
      "Compiled Tue 27-Mar-18 13:32 by mcpre\n",
      "\n",
      "\n",
      "Cisco IOS-XE software, Copyright (c) 2005-2018 by cisco Systems, Inc.\n",
      "All rights reserved.  Certain components of Cisco IOS-XE software are\n",
      "licensed under the GNU General Public License (\"GPL\") Version 2.0.  The\n",
      "software code licensed under GPL Version 2.0 is free software that comes\n",
      "with ABSOLUTELY NO WARRANTY.  You can redistribute and/or modify such\n",
      "GPL code under the terms of GPL Version 2.0.  For more details, see the\n",
      "documentation or \"License Notice\" file accompanying the IOS-XE software,\n",
      "or the applicable URL provided on the flyer accompanying the IOS-XE\n",
      "software.\n",
      "\n",
      "\n",
      "ROM: IOS-XE ROMMON\n",
      "\n",
      "csr1000v uptime is 6 weeks, 5 days, 17 hours, 18 minutes\n",
      "Uptime for this control processor is 6 weeks, 5 days, 17 hours, 19 minutes\n",
      "System returned to ROM by reload\n",
      "System image file is \"bootflash:packages.conf\"\n",
      "Last reload reason: Reload Command\n",
      "\n",
      "\n",
      "\n",
      "This product contains cryptographic features and is subject to United\n",
      "States and local country laws governing import, export, transfer and\n",
      "use. Delivery of Cisco cryptographic products does not imply\n",
      "third-party authority to import, export, distribute or use encryption.\n",
      "Importers, exporters, distributors and users are responsible for\n",
      "compliance with U.S. and local country laws. By using this product you\n",
      "agree to comply with applicable laws and regulations. If you are unable\n",
      "to comply with U.S. and local laws, return this product immediately.\n",
      "\n",
      "A summary of U.S. laws governing Cisco cryptographic products may be found at:\n",
      "http://www.cisco.com/wwl/export/crypto/tool/stqrg.html\n",
      "\n",
      "If you require further assistance please contact us by sending email to\n",
      "export@cisco.com.\n",
      "\n",
      "License Level: ax\n",
      "License Type: Default. No valid license found.\n",
      "Next reload license Level: ax\n",
      "\n",
      "cisco CSR1000V (VXE) processor (revision VXE) with 2186344K/3075K bytes of memory.\n",
      "Processor board ID 9JGOSIUGQVN\n",
      "3 Gigabit Ethernet interfaces\n",
      "32768K bytes of non-volatile configuration memory.\n",
      "3984604K bytes of physical memory.\n",
      "7774207K bytes of virtual hard disk at bootflash:.\n",
      "0K bytes of WebUI ODM Files at webui:.\n",
      "\n",
      "Configuration register is 0x2102\n",
      "\n",
      "csr1000v#"
     ]
    },
    {
     "data": {
      "text/plain": [
       "'Cisco IOS XE Software, Version 16.08.01\\r\\nCisco IOS Software [Fuji], Virtual XE Software (X86_64_LINUX_IOSD-UNIVERSALK9-M), Version 16.8.1, RELEASE SOFTWARE (fc3)\\r\\nTechnical Support: http://www.cisco.com/techsupport\\r\\nCopyright (c) 1986-2018 by Cisco Systems, Inc.\\r\\nCompiled Tue 27-Mar-18 13:32 by mcpre\\r\\n\\r\\n\\r\\nCisco IOS-XE software, Copyright (c) 2005-2018 by cisco Systems, Inc.\\r\\nAll rights reserved.  Certain components of Cisco IOS-XE software are\\r\\nlicensed under the GNU General Public License (\"GPL\") Version 2.0.  The\\r\\nsoftware code licensed under GPL Version 2.0 is free software that comes\\r\\nwith ABSOLUTELY NO WARRANTY.  You can redistribute and/or modify such\\r\\nGPL code under the terms of GPL Version 2.0.  For more details, see the\\r\\ndocumentation or \"License Notice\" file accompanying the IOS-XE software,\\r\\nor the applicable URL provided on the flyer accompanying the IOS-XE\\r\\nsoftware.\\r\\n\\r\\n\\r\\nROM: IOS-XE ROMMON\\r\\n\\r\\ncsr1000v uptime is 6 weeks, 5 days, 17 hours, 18 minutes\\r\\nUptime for this control processor is 6 weeks, 5 days, 17 hours, 19 minutes\\r\\nSystem returned to ROM by reload\\r\\nSystem image file is \"bootflash:packages.conf\"\\r\\nLast reload reason: Reload Command\\r\\n\\r\\n\\r\\n\\r\\nThis product contains cryptographic features and is subject to United\\r\\nStates and local country laws governing import, export, transfer and\\r\\nuse. Delivery of Cisco cryptographic products does not imply\\r\\nthird-party authority to import, export, distribute or use encryption.\\r\\nImporters, exporters, distributors and users are responsible for\\r\\ncompliance with U.S. and local country laws. By using this product you\\r\\nagree to comply with applicable laws and regulations. If you are unable\\r\\nto comply with U.S. and local laws, return this product immediately.\\r\\n\\r\\nA summary of U.S. laws governing Cisco cryptographic products may be found at:\\r\\nhttp://www.cisco.com/wwl/export/crypto/tool/stqrg.html\\r\\n\\r\\nIf you require further assistance please contact us by sending email to\\r\\nexport@cisco.com.\\r\\n\\r\\nLicense Level: ax\\r\\nLicense Type: Default. No valid license found.\\r\\nNext reload license Level: ax\\r\\n\\r\\ncisco CSR1000V (VXE) processor (revision VXE) with 2186344K/3075K bytes of memory.\\r\\nProcessor board ID 9JGOSIUGQVN\\r\\n3 Gigabit Ethernet interfaces\\r\\n32768K bytes of non-volatile configuration memory.\\r\\n3984604K bytes of physical memory.\\r\\n7774207K bytes of virtual hard disk at bootflash:.\\r\\n0K bytes of WebUI ODM Files at webui:.\\r\\n\\r\\nConfiguration register is 0x2102\\r\\n\\r\\n'"
      ]
     },
     "execution_count": 16,
     "metadata": {},
     "output_type": "execute_result"
    }
   ],
   "source": [
    "csr1000v.execute('show version')\n"
   ]
  },
  {
   "cell_type": "code",
   "execution_count": null,
   "metadata": {},
   "outputs": [],
   "source": [
    "abstract = Lookup.from_device(device)"
   ]
  }
 ],
 "metadata": {
  "kernelspec": {
   "display_name": "Python 3",
   "language": "python",
   "name": "python3"
  },
  "language_info": {
   "codemirror_mode": {
    "name": "ipython",
    "version": 3
   },
   "file_extension": ".py",
   "mimetype": "text/x-python",
   "name": "python",
   "nbconvert_exporter": "python",
   "pygments_lexer": "ipython3",
   "version": "3.6.4"
  }
 },
 "nbformat": 4,
 "nbformat_minor": 2
}
